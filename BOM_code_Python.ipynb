{
  "nbformat": 4,
  "nbformat_minor": 0,
  "metadata": {
    "colab": {
      "provenance": []
    },
    "kernelspec": {
      "name": "python3",
      "display_name": "Python 3"
    },
    "language_info": {
      "name": "python"
    }
  },
  "cells": [
    {
      "cell_type": "code",
      "execution_count": 2,
      "metadata": {
        "id": "kicU4FJ9k-AY",
        "outputId": "7f7479bd-c7f8-48c6-9c1d-84bd1fbe11a4",
        "colab": {
          "base_uri": "https://localhost:8080/"
        }
      },
      "outputs": [
        {
          "output_type": "stream",
          "name": "stdout",
          "text": [
            "BOM generated and saved to BOM.xlsx\n"
          ]
        }
      ],
      "source": [
        "import pandas as pd\n",
        "\n",
        "# Sample data for devices\n",
        "data = {\n",
        "    \"Device\": [\"Speaker\", \"Microphone\", \"Display\", \"Camera\", \"Control Unit\"],\n",
        "    \"Quantity\": [4, 2, 2, 1, 1],\n",
        "    \"Price per Unit (USD)\": [150, 200, 800, 1000, 1200]\n",
        "}\n",
        "\n",
        "# Convert to a DataFrame\n",
        "df = pd.DataFrame(data)\n",
        "\n",
        "# Calculate Total Price\n",
        "df[\"Total Price (USD)\"] = df[\"Quantity\"] * df[\"Price per Unit (USD)\"]\n",
        "\n",
        "# Save BOM to an Excel file\n",
        "output_file = \"BOM.xlsx\"\n",
        "df.to_excel(output_file, index=False)\n",
        "\n",
        "print(f\"BOM generated and saved to {output_file}\")"
      ]
    }
  ]
}